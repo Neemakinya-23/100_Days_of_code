{
 "cells": [
  {
   "cell_type": "markdown",
   "id": "d1d98ca6-a83e-4501-a0e4-e32a572bd71f",
   "metadata": {},
   "source": [
    "**100 Days Of Code**"
   ]
  },
  {
   "cell_type": "markdown",
   "id": "1935c096-3e14-4b54-8b6c-b76d9cad3c02",
   "metadata": {},
   "source": [
    "*Lets get ready to code* "
   ]
  },
  {
   "cell_type": "markdown",
   "id": "240eb852-3afa-4742-96f3-570243a8a1b6",
   "metadata": {},
   "source": [
    "Day one "
   ]
  },
  {
   "cell_type": "code",
   "execution_count": 1,
   "id": "2d9116f8-90e7-4b81-b993-67f2c1a7a872",
   "metadata": {},
   "outputs": [
    {
     "name": "stdout",
     "output_type": "stream",
     "text": [
      "3.12.7\n"
     ]
    }
   ],
   "source": [
    "#Getting the version of my python\n",
    "import sys\n",
    "#get the first value otherwise the output will  be \n",
    "#3.12.7 | packaged by Anaconda, Inc. | (main, Oct  4 2024, 13:17:27) [MSC v.1929 64 bit (AMD64)]\n",
    "print(sys.version.split()[0])"
   ]
  },
  {
   "cell_type": "code",
   "execution_count": null,
   "id": "a15a4086-7357-4635-9aa7-46ff94916035",
   "metadata": {},
   "outputs": [],
   "source": []
  }
 ],
 "metadata": {
  "kernelspec": {
   "display_name": "Python 3 (ipykernel)",
   "language": "python",
   "name": "python3"
  },
  "language_info": {
   "codemirror_mode": {
    "name": "ipython",
    "version": 3
   },
   "file_extension": ".py",
   "mimetype": "text/x-python",
   "name": "python",
   "nbconvert_exporter": "python",
   "pygments_lexer": "ipython3",
   "version": "3.12.7"
  }
 },
 "nbformat": 4,
 "nbformat_minor": 5
}
