{
 "cells": [
  {
   "cell_type": "markdown",
   "id": "d1d98ca6-a83e-4501-a0e4-e32a572bd71f",
   "metadata": {},
   "source": [
    "**100 Days Of Code**"
   ]
  },
  {
   "cell_type": "markdown",
   "id": "1935c096-3e14-4b54-8b6c-b76d9cad3c02",
   "metadata": {},
   "source": [
    "*Lets get ready to code* "
   ]
  },
  {
   "cell_type": "code",
   "execution_count": null,
   "id": "336b7a07-260a-4af1-8284-845960a79202",
   "metadata": {},
   "outputs": [],
   "source": []
  }
 ],
 "metadata": {
  "kernelspec": {
   "display_name": "Python 3 (ipykernel)",
   "language": "python",
   "name": "python3"
  },
  "language_info": {
   "codemirror_mode": {
    "name": "ipython",
    "version": 3
   },
   "file_extension": ".py",
   "mimetype": "text/x-python",
   "name": "python",
   "nbconvert_exporter": "python",
   "pygments_lexer": "ipython3",
   "version": "3.12.7"
  }
 },
 "nbformat": 4,
 "nbformat_minor": 5
}
